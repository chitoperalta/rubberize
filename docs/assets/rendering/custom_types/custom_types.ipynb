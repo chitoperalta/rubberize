{
 "cells": [
  {
   "cell_type": "code",
   "execution_count": 1,
   "id": "35151dcb-7736-4f0b-b435-1275d7c82af2",
   "metadata": {
    "editable": true,
    "slideshow": {
     "slide_type": ""
    },
    "tags": []
   },
   "outputs": [
    {
     "data": {
      "text/html": [
       "<style>:root {\n",
       "    --rz-icon-check-circle: url('data:image/svg+xml,<svg xmlns=\"http://www.w3.org/2000/svg\" width=\"16\" height=\"16\" fill=\"%23000\" class=\"bi bi-check-circle\" viewBox=\"0 0 16 16\"><path d=\"M8 15A7 7 0 1 1 8 1a7 7 0 0 1 0 14m0 1A8 8 0 1 0 8 0a8 8 0 0 0 0 16\"/><path d=\"m10.97 4.97-.02.022-3.473 4.425-2.093-2.094a.75.75 0 0 0-1.06 1.06L6.97 11.03a.75.75 0 0 0 1.079-.02l3.992-4.99a.75.75 0 0 0-1.071-1.05\"/></svg>');\n",
       "    --rz-icon-check-circle-fill-green: url('data:image/svg+xml,<svg xmlns=\"http://www.w3.org/2000/svg\" width=\"16\" height=\"16\" fill=\"%230a3622\" class=\"bi bi-check-circle-fill\" viewBox=\"0 0 16 16\"><path d=\"M16 8A8 8 0 1 1 0 8a8 8 0 0 1 16 0m-3.97-3.03a.75.75 0 0 0-1.08.022L7.477 9.417 5.384 7.323a.75.75 0 0 0-1.06 1.06L6.97 11.03a.75.75 0 0 0 1.079-.02l3.992-4.99a.75.75 0 0 0-.01-1.05z\"/></svg>');\n",
       "    --rz-icon-check-circle-fill-green-dark: url('data:image/svg+xml,<svg xmlns=\"http://www.w3.org/2000/svg\" width=\"16\" height=\"16\" fill=\"%2375b798\" class=\"bi bi-check-circle-fill\" viewBox=\"0 0 16 16\"><path d=\"M16 8A8 8 0 1 1 0 8a8 8 0 0 1 16 0m-3.97-3.03a.75.75 0 0 0-1.08.022L7.477 9.417 5.384 7.323a.75.75 0 0 0-1.06 1.06L6.97 11.03a.75.75 0 0 0 1.079-.02l3.992-4.99a.75.75 0 0 0-.01-1.05z\"/></svg>');\n",
       "    --rz-icon-x-circle: url('data:image/svg+xml,<svg xmlns=\"http://www.w3.org/2000/svg\" width=\"16\" height=\"16\" fill=\"%23000\" class=\"bi bi-x-circle\" viewBox=\"0 0 16 16\"><path d=\"M8 15A7 7 0 1 1 8 1a7 7 0 0 1 0 14m0 1A8 8 0 1 0 8 0a8 8 0 0 0 0 16\"/><path d=\"M4.646 4.646a.5.5 0 0 1 .708 0L8 7.293l2.646-2.647a.5.5 0 0 1 .708.708L8.707 8l2.647 2.646a.5.5 0 0 1-.708.708L8 8.707l-2.646 2.647a.5.5 0 0 1-.708-.708L7.293 8 4.646 5.354a.5.5 0 0 1 0-.708\"/></svg>');\n",
       "    --rz-icon-x-circle-fill-red: url('data:image/svg+xml,<svg xmlns=\"http://www.w3.org/2000/svg\" width=\"16\" height=\"16\" fill=\"%2358151c\" class=\"bi bi-x-circle-fill\" viewBox=\"0 0 16 16\"><path d=\"M16 8A8 8 0 1 1 0 8a8 8 0 0 1 16 0M5.354 4.646a.5.5 0 1 0-.708.708L7.293 8l-2.647 2.646a.5.5 0 0 0 .708.708L8 8.707l2.646 2.647a.5.5 0 0 0 .708-.708L8.707 8l2.647-2.646a.5.5 0 0 0-.708-.708L8 7.293z\"/></svg>');\n",
       "    --rz-icon-x-circle-fill-red-dark: url('data:image/svg+xml,<svg xmlns=\"http://www.w3.org/2000/svg\" width=\"16\" height=\"16\" fill=\"%23e9868f\" class=\"bi bi-x-circle-fill\" viewBox=\"0 0 16 16\"><path d=\"M16 8A8 8 0 1 1 0 8a8 8 0 0 1 16 0M5.354 4.646a.5.5 0 1 0-.708.708L7.293 8l-2.647 2.646a.5.5 0 0 0 .708.708L8 8.707l2.646 2.647a.5.5 0 0 0 .708-.708L8.707 8l2.647-2.646a.5.5 0 0 0-.708-.708L8 7.293z\"/></svg>');\n",
       "    --rz-icon-info-circle: url('data:image/svg+xml,<svg xmlns=\"http://www.w3.org/2000/svg\" width=\"16\" height=\"16\" fill=\"%23000\" class=\"bi bi-info-circle\" viewBox=\"0 0 16 16\"><path d=\"M8 15A7 7 0 1 1 8 1a7 7 0 0 1 0 14m0 1A8 8 0 1 0 8 0a8 8 0 0 0 0 16\"/><path d=\"m8.93 6.588-2.29.287-.082.38.45.083c.294.07.352.176.288.469l-.738 3.468c-.194.897.105 1.319.808 1.319.545 0 1.178-.252 1.465-.598l.088-.416c-.2.176-.492.246-.686.246-.275 0-.375-.193-.304-.533zM9 4.5a1 1 0 1 1-2 0 1 1 0 0 1 2 0\"/></svg>');\n",
       "    --rz-icon-info-circle-fill-blue: url('data:image/svg+xml,<svg xmlns=\"http://www.w3.org/2000/svg\" width=\"16\" height=\"16\" fill=\"%23052c65\" class=\"bi bi-info-circle-fill\" viewBox=\"0 0 16 16\"><path d=\"M8 16A8 8 0 1 0 8 0a8 8 0 0 0 0 16m.93-9.412-1 4.705c-.07.34.029.533.304.533.194 0 .487-.07.686-.246l-.088.416c-.287.346-.92.598-1.465.598-.703 0-1.002-.422-.808-1.319l.738-3.468c.064-.293.006-.399-.287-.47l-.451-.081.082-.381 2.29-.287zM8 5.5a1 1 0 1 1 0-2 1 1 0 0 1 0 2\"/></svg>');\n",
       "    --rz-icon-info-circle-fill-blue-dark: url('data:image/svg+xml,<svg xmlns=\"http://www.w3.org/2000/svg\" width=\"16\" height=\"16\" fill=\"%236ea8fe\" class=\"bi bi-info-circle-fill\" viewBox=\"0 0 16 16\"><path d=\"M8 16A8 8 0 1 0 8 0a8 8 0 0 0 0 16m.93-9.412-1 4.705c-.07.34.029.533.304.533.194 0 .487-.07.686-.246l-.088.416c-.287.346-.92.598-1.465.598-.703 0-1.002-.422-.808-1.319l.738-3.468c.064-.293.006-.399-.287-.47l-.451-.081.082-.381 2.29-.287zM8 5.5a1 1 0 1 1 0-2 1 1 0 0 1 0 2\"/></svg>');\n",
       "    --rz-icon-exclamation-triangle: url('data:image/svg+xml,<svg xmlns=\"http://www.w3.org/2000/svg\" width=\"16\" height=\"16\" fill=\"%23000\" class=\"bi bi-exclamation-triangle\" viewBox=\"0 0 16 16\"><path d=\"M7.938 2.016A.13.13 0 0 1 8.002 2a.13.13 0 0 1 .063.016.15.15 0 0 1 .054.057l6.857 11.667c.036.06.035.124.002.183a.2.2 0 0 1-.054.06.1.1 0 0 1-.066.017H1.146a.1.1 0 0 1-.066-.017.2.2 0 0 1-.054-.06.18.18 0 0 1 .002-.183L7.884 2.073a.15.15 0 0 1 .054-.057m1.044-.45a1.13 1.13 0 0 0-1.96 0L.165 13.233c-.457.778.091 1.767.98 1.767h13.713c.889 0 1.438-.99.98-1.767z\"/><path d=\"M7.002 12a1 1 0 1 1 2 0 1 1 0 0 1-2 0M7.1 5.995a.905.905 0 1 1 1.8 0l-.35 3.507a.552.552 0 0 1-1.1 0z\"/></svg>');\n",
       "    --rz-icon-exclamation-triangle-fill-yellow: url('data:image/svg+xml,<svg xmlns=\"http://www.w3.org/2000/svg\" width=\"16\" height=\"16\" fill=\"%23664d03\" class=\"bi bi-exclamation-triangle-fill\" viewBox=\"0 0 16 16\"><path d=\"M8.982 1.566a1.13 1.13 0 0 0-1.96 0L.165 13.233c-.457.778.091 1.767.98 1.767h13.713c.889 0 1.438-.99.98-1.767zM8 5c.535 0 .954.462.9.995l-.35 3.507a.552.552 0 0 1-1.1 0L7.1 5.995A.905.905 0 0 1 8 5m.002 6a1 1 0 1 1 0 2 1 1 0 0 1 0-2\"/></svg>');\n",
       "    --rz-icon-exclamation-triangle-fill-yellow-dark: url('data:image/svg+xml,<svg xmlns=\"http://www.w3.org/2000/svg\" width=\"16\" height=\"16\" fill=\"%23ffda6a\" class=\"bi bi-exclamation-triangle-fill\" viewBox=\"0 0 16 16\"><path d=\"M8.982 1.566a1.13 1.13 0 0 0-1.96 0L.165 13.233c-.457.778.091 1.767.98 1.767h13.713c.889 0 1.438-.99.98-1.767zM8 5c.535 0 .954.462.9.995l-.35 3.507a.552.552 0 0 1-1.1 0L7.1 5.995A.905.905 0 0 1 8 5m.002 6a1 1 0 1 1 0 2 1 1 0 0 1 0-2\"/></svg>');\n",
       "}\n",
       "\n",
       ".jp-RenderedHTMLCommon p {\n",
       "    text-align: justify;\n",
       "}\n",
       "\n",
       "@media print {\n",
       "    @page {\n",
       "        size: A4;\n",
       "        margin: 1in;\n",
       "      }\n",
       "      \n",
       "    :root {\n",
       "        --jp-notebook-padding: 0 !important;\n",
       "        --jp-cell-padding: 0 !important;\n",
       "        --jp-code-padding: 0 !important;\n",
       "        \n",
       "        --jp-content-font-size0: 0.83333em !important;\n",
       "        --jp-content-font-size1: 9pt !important;\n",
       "        --jp-content-font-size2: 1.1em !important;\n",
       "        --jp-content-font-size3: 1.21em !important;\n",
       "        --jp-content-font-size4: 1.331em !important;\n",
       "        --jp-content-font-size5: 1.5972em !important;\n",
       "    \n",
       "        --jp-content-font-family: arial, sans-serif,\n",
       "            'Apple Color Emoji', 'Segoe UI Emoji', 'Segoe UI Symbol';  \n",
       "    }\n",
       "\n",
       "    body {\n",
       "        margin: 0 !important;\n",
       "    }\n",
       "\n",
       "    h1, h2, h3, h4, h5, h6 {\n",
       "        font-weight: bold !important;\n",
       "        break-after: avoid-page;\n",
       "    }\n",
       "}\n",
       "\n",
       "/* param container */\n",
       ".rz-grid-container {\n",
       "    display: grid;\n",
       "    grid-template-columns: repeat(auto-fit, minmax(1.5in, 1fr));\n",
       "    align-items: baseline;\n",
       "    gap: 0 1em;\n",
       "}\n",
       "\n",
       "/* line */\n",
       "\n",
       ".rz-line {\n",
       "    margin-bottom: 1em;\n",
       "}\n",
       "\n",
       ".rz-line__main {\n",
       "    flex: 1 1 auto;\n",
       "}\n",
       "\n",
       ".rz-line__desc {\n",
       "    flex: 0 1 2.5in;\n",
       "    margin-left: auto;\n",
       "}\n",
       "\n",
       ".rz-line:has(> .rz-line__desc) {\n",
       "    display: flex;\n",
       "    flex-wrap: wrap;\n",
       "    align-items: baseline;\n",
       "    gap: 0.25em 1em;\n",
       "}\n",
       "\n",
       ".rz-line--mark {\n",
       "    padding-left: 0.5em;\n",
       "    border-left: 0.25em solid;\n",
       "}\n",
       "\n",
       ".rz-line--mark-noprint {\n",
       "    padding-left: 0.5em;\n",
       "    border-left: 0.25em solid #dc3545;\n",
       "}\n",
       "\n",
       ".rz-line--hi mjx-math,\n",
       ".rz-line--hi .mjx-math,\n",
       ".rz-line--yhi mjx-math,\n",
       ".rz-line--yhi .mjx-math {\n",
       "    padding: 3px;\n",
       "    background-color: #fff3cd;\n",
       "}\n",
       "\n",
       ".rz-line--hi-noprint mjx-math,\n",
       ".rz-line--hi-noprint .mjx-math,\n",
       ".rz-line--yhi-noprint mjx-math,\n",
       ".rz-line--yhi-noprint .mjx-math {\n",
       "    padding: 3px;\n",
       "    background: repeating-linear-gradient(\n",
       "        -45deg,\n",
       "        #fff3cd,\n",
       "        #fff3cd 3px,\n",
       "        #fffcf1 3px,\n",
       "        #fffcf1 6px\n",
       "    );\n",
       "}\n",
       "\n",
       ".rz-line--rhi mjx-math,\n",
       ".rz-line--rhi .mjx-math {\n",
       "    padding: 3px;\n",
       "    background-color: #f9d7da;\n",
       "}\n",
       "\n",
       ".rz-line--rhi-noprint mjx-math,\n",
       ".rz-line--rhi-noprint .mjx-math {\n",
       "    padding: 3px;\n",
       "    background: repeating-linear-gradient(\n",
       "        -45deg,\n",
       "        #f9d7da,\n",
       "        #f9d7da 3px,\n",
       "        #ffe1e4 3px,\n",
       "        #ffe1e4 6px\n",
       "    );\n",
       "}\n",
       "\n",
       ".rz-line--ghi mjx-math,\n",
       ".rz-line--ghi .mjx-math {\n",
       "    padding: 3px;\n",
       "    background-color: #d1e7de;\n",
       "}\n",
       "\n",
       ".rz-line--ghi-noprint mjx-math,\n",
       ".rz-line--ghi-noprint .mjx-math {\n",
       "    padding: 3px;\n",
       "    background: repeating-linear-gradient(\n",
       "        -45deg,\n",
       "        #d1e7de,\n",
       "        #d1e7de 3px,\n",
       "        #e8fff6 3px,\n",
       "        #e8fff6 6px\n",
       "    );\n",
       "}\n",
       "\n",
       ".rz-line--bhi mjx-math,\n",
       ".rz-line--bhi .mjx-math {\n",
       "    padding: 3px;\n",
       "    background-color: #d0e2ff;\n",
       "}\n",
       "\n",
       ".rz-line--bhi-noprint mjx-math,\n",
       ".rz-line--bhi-noprint .mjx-math {\n",
       "    padding: 3px;\n",
       "    background: repeating-linear-gradient(\n",
       "        -45deg,\n",
       "        #d0e2ff,\n",
       "        #d0e2ff 3px,\n",
       "        #e3efff 3px,\n",
       "        #e3efff 6px\n",
       "    );\n",
       "}\n",
       "\n",
       "\n",
       "[data-jp-theme-light=\"false\"] .rz-line--hi mjx-math,\n",
       "[data-jp-theme-light=\"false\"] .rz-line--hi .mjx-math,\n",
       "[data-jp-theme-light=\"false\"] .rz-line--yhi mjx-math,\n",
       "[data-jp-theme-light=\"false\"] .rz-line--yhi .mjx-math {\n",
       "    border: 1px solid #997405;\n",
       "    padding: 3px;\n",
       "    background-color: #332702;\n",
       "}\n",
       "\n",
       "[data-jp-theme-light=\"false\"] .rz-line--hi-noprint mjx-math,\n",
       "[data-jp-theme-light=\"false\"] .rz-line--hi-noprint .mjx-math,\n",
       "[data-jp-theme-light=\"false\"] .rz-line--yhi-noprint mjx-math,\n",
       "[data-jp-theme-light=\"false\"] .rz-line--yhi-noprint .mjx-math {\n",
       "    border: 1px solid #997405;\n",
       "    padding: 3px;\n",
       "    background: repeating-linear-gradient(\n",
       "        -45deg,\n",
       "        #332702,\n",
       "        #332702 3px,\n",
       "        #181202 3px,\n",
       "        #181202 6px\n",
       "    );\n",
       "}\n",
       "\n",
       "[data-jp-theme-light=\"false\"] .rz-line--rhi mjx-math,\n",
       "[data-jp-theme-light=\"false\"] .rz-line--rhi .mjx-math {\n",
       "    border: 1px solid #841f29;\n",
       "    padding: 3px;\n",
       "    background-color: #2c0b0e;\n",
       "}\n",
       "\n",
       "[data-jp-theme-light=\"false\"] .rz-line--rhi-noprint mjx-math,\n",
       "[data-jp-theme-light=\"false\"] .rz-line--rhi-noprint .mjx-math {\n",
       "    border: 1px solid #841f29;\n",
       "    padding: 3px;\n",
       "    background: repeating-linear-gradient(\n",
       "        -45deg,\n",
       "        #2c0b0e,\n",
       "        #2c0b0e 3px,\n",
       "        #0e0405 3px,\n",
       "        #0e0405 6px\n",
       "    );\n",
       "}\n",
       "\n",
       "[data-jp-theme-light=\"false\"] .rz-line--ghi mjx-math,\n",
       "[data-jp-theme-light=\"false\"] .rz-line--ghi .mjx-math {\n",
       "    border: 1px solid #0f5132;\n",
       "    padding: 3px;\n",
       "    background-color: #051b11;\n",
       "}\n",
       "\n",
       "[data-jp-theme-light=\"false\"] .rz-line--ghi-noprint mjx-math,\n",
       "[data-jp-theme-light=\"false\"] .rz-line--ghi-noprint .mjx-math {\n",
       "    border: 1px solid #0f5132;\n",
       "    padding: 3px;\n",
       "    background: repeating-linear-gradient(\n",
       "        -45deg,\n",
       "        #051b11,\n",
       "        #051b11 3px,\n",
       "        #030d08 3px,\n",
       "        #030d08 6px\n",
       "    );\n",
       "}\n",
       "\n",
       "[data-jp-theme-light=\"false\"] .rz-line--bhi mjx-math,\n",
       "[data-jp-theme-light=\"false\"] .rz-line--bhi .mjx-math {\n",
       "    border: 1px solid #084298;\n",
       "    padding: 3px;\n",
       "    background-color: #031633;\n",
       "}\n",
       "\n",
       "[data-jp-theme-light=\"false\"] .rz-line--bhi-noprint mjx-math,\n",
       "[data-jp-theme-light=\"false\"] .rz-line--bhi-noprint .mjx-math {\n",
       "    border: 1px solid #084298;\n",
       "    padding: 3px;\n",
       "    background: repeating-linear-gradient(\n",
       "        -45deg,\n",
       "        #031633,\n",
       "        #031633 3px,\n",
       "        #020a18 3px,\n",
       "        #020a18 6px\n",
       "    );\n",
       "}\n",
       "\n",
       "@media print {\n",
       "    .rz-line--mark-noprint {\n",
       "        padding-left: unset;\n",
       "        border-left: unset;\n",
       "    }\n",
       "    \n",
       "    .rz-line--hi-noprint mjx-math,\n",
       "    .rz-line--hi-noprint .mjx-math,\n",
       "    .rz-line--rhi-noprint mjx-math,\n",
       "    .rz-line--rhi-noprint .mjx-math,\n",
       "    .rz-line--yhi-noprint mjx-math,\n",
       "    .rz-line--yhi-noprint .mjx-math,\n",
       "    .rz-line--ghi-noprint mjx-math,\n",
       "    .rz-line--ghi-noprint .mjx-math,\n",
       "    .rz-line--bhi-noprint mjx-math,\n",
       "    .rz-line--bhi-noprint .mjx-math {\n",
       "        border: unset;\n",
       "        padding: unset;\n",
       "        background: unset;\n",
       "    }\n",
       "}\n",
       "\n",
       ".rz-body {\n",
       "    padding-left: 1.5em;\n",
       "}\n",
       "\n",
       "/* header */\n",
       "\n",
       ".rz-header {\n",
       "    margin-bottom: 1em;\n",
       "    border-bottom: 1px solid;\n",
       "    padding-bottom: 0.5em;\n",
       "}\n",
       "\n",
       ".rz-header h1 {\n",
       "    margin-top: 1em;\n",
       "    margin-bottom: 0.5em;\n",
       "}\n",
       "\n",
       ".rz-header p {\n",
       "    margin-bottom: 0.5em;\n",
       "}\n",
       "\n",
       ".rz-header ul {\n",
       "    margin-top: 0;\n",
       "    margin-bottom: 0.5em;\n",
       "    padding-left: 0 !important;\n",
       "    font-size: var(--jp-content-font-size0);\n",
       "    list-style: none;\n",
       "\n",
       "}\n",
       "\n",
       ".rz-header :last-child {\n",
       "    margin-bottom: 0;\n",
       "}\n",
       "\n",
       "/* alert */\n",
       "\n",
       ".rz-alert {\n",
       "    display: grid;\n",
       "    grid-template-columns: auto 1fr;\n",
       "    gap: calc(var(--rz-alert-icon-size, 1em) * 0.5);\n",
       "    align-items: center;\n",
       "    margin-bottom: 1em;\n",
       "\n",
       "    border: var(--rz-alert-border);\n",
       "    padding: var(--rz-alert-padding);\n",
       "    background-color: var(--rz-alert-bg);\n",
       "    color: var(--rz-alert-color);\n",
       "    font-size: var(--rz-alert-font-size);\n",
       "    font-weight: var(--rz-alert-font-weight);\n",
       "}\n",
       "\n",
       ".rz-alert::before {\n",
       "    content: \"\";\n",
       "    width: var(--rz-alert-icon-size, 1em);\n",
       "    height: var(--rz-alert-icon-size, 1em);\n",
       "    background-image: var(--rz-alert-icon, var(--rz-icon-info-circle));\n",
       "    background-size: contain;\n",
       "    background-repeat: no-repeat;\n",
       "}\n",
       "\n",
       ".rz-alert__content :last-child {\n",
       "    margin-bottom: 0;\n",
       "}\n",
       "\n",
       ".rz-alert--noprint {\n",
       "    background: repeating-linear-gradient(\n",
       "        -45deg,\n",
       "        var(--rz-alert-bg),\n",
       "        var(--rz-alert-bg) 3px,\n",
       "        var(--rz-alert-bg-2) 3px,\n",
       "        var(--rz-alert-bg-2) 6px\n",
       "    );\n",
       "}\n",
       "\n",
       ".rz-alert--pass {\n",
       "    --rz-alert-icon-size: 1.5em;\n",
       "    --rz-alert-icon: var(--rz-icon-check-circle-fill-green);\n",
       "    --rz-alert-border: 1px solid #a3cfbb;\n",
       "    --rz-alert-padding: 0.5em;\n",
       "    --rz-alert-bg: #d1e7de;\n",
       "    --rz-alert-bg-2: #e8fff6;\n",
       "    --rz-alert-color: #0a3622;\n",
       "    --rz-alert-font-weight: 500;\n",
       "}\n",
       "\n",
       ".rz-alert--fail {\n",
       "    --rz-alert-icon-size: 1.5em;\n",
       "    --rz-alert-icon: var(--rz-icon-x-circle-fill-red);\n",
       "    --rz-alert-border: 1px solid #f1aeb5;\n",
       "    --rz-alert-padding: 0.5em;\n",
       "    --rz-alert-bg: #f9d7da;\n",
       "    --rz-alert-bg-2: #ffe1e4;\n",
       "    --rz-alert-color: #58151c;\n",
       "    --rz-alert-font-weight: 500;\n",
       "}\n",
       "\n",
       ".rz-alert--note {\n",
       "    --rz-alert-icon-size: 1.2em;\n",
       "    --rz-alert-icon: var(--rz-icon-info-circle-fill-blue);\n",
       "    --rz-alert-border: 1px solid #9ec5fe;\n",
       "    --rz-alert-padding: 0.5em;\n",
       "    --rz-alert-bg: #d0e2ff;\n",
       "    --rz-alert-bg-2: #e3efff;\n",
       "    --rz-alert-color: #052c65;\n",
       "}\n",
       "\n",
       ".rz-alert--warning {\n",
       "    --rz-alert-icon-size: 1.2em;\n",
       "    --rz-alert-icon: var(--rz-icon-exclamation-triangle-fill-yellow);\n",
       "    --rz-alert-border: 1px solid #ffe69c;\n",
       "    --rz-alert-padding: 0.5em;\n",
       "    --rz-alert-bg: #fff3cd;\n",
       "    --rz-alert-bg-2: #fffcf1;\n",
       "    --rz-alert-color: #664d03;\n",
       "}\n",
       "\n",
       "[data-jp-theme-light=\"false\"] .rz-alert--pass {\n",
       "    --rz-alert-border: 1px solid #0f5132;\n",
       "    --rz-alert-icon: var(--rz-icon-check-circle-fill-green-dark);\n",
       "    --rz-alert-bg: #051b11;\n",
       "    --rz-alert-bg-2: #030d08;\n",
       "    --rz-alert-color: #75b798;\n",
       "}\n",
       "\n",
       "[data-jp-theme-light=\"false\"] .rz-alert--fail {\n",
       "    --rz-alert-border: 1px solid #841f29;\n",
       "    --rz-alert-icon: var(--rz-icon-x-circle-fill-red-dark);\n",
       "    --rz-alert-bg: #2c0b0e;\n",
       "    --rz-alert-bg-2: #0e0405;\n",
       "    --rz-alert-color: #e9868f;\n",
       "}\n",
       "\n",
       "[data-jp-theme-light=\"false\"] .rz-alert--note {\n",
       "    --rz-alert-border: 1px solid #084298;\n",
       "    --rz-alert-icon: var(--rz-icon-info-circle-fill-blue-dark);\n",
       "    --rz-alert-bg: #031633;\n",
       "    --rz-alert-bg-2: #020a18;\n",
       "    --rz-alert-color: #6ea8fe;\n",
       "}\n",
       "\n",
       "[data-jp-theme-light=\"false\"] .rz-alert--warning {\n",
       "    --rz-alert-border: 1px solid #997405;\n",
       "    --rz-alert-icon: var(--rz-icon-exclamation-triangle-fill-yellow-dark);\n",
       "    --rz-alert-bg: #332702;\n",
       "    --rz-alert-bg-2: #181202;\n",
       "    --rz-alert-color: #ffda6a;\n",
       "}\n",
       "\n",
       "@media print {\n",
       "    .rz-alert--noprint {\n",
       "        display: none !important;\n",
       "    }\n",
       "\n",
       "    .rz-alert--pass {\n",
       "        --rz-alert-icon: var(--rz-icon-check-circle);\n",
       "        --rz-alert-border: unset;\n",
       "        --rz-alert-padding: unset;\n",
       "        --rz-alert-bg: unset;\n",
       "        --rz-alert-color: unset;\n",
       "        --rz-alert-font-weight: bold;\n",
       "    }\n",
       "\n",
       "    .rz-alert--fail {\n",
       "        --rz-alert-icon: var(--rz-icon-x-circle);\n",
       "        --rz-alert-border: unset;\n",
       "        --rz-alert-padding: unset;\n",
       "        --rz-alert-bg: unset;\n",
       "        --rz-alert-color: unset;\n",
       "        --rz-alert-font-weight: bold;\n",
       "    }\n",
       "\n",
       "    .rz-alert--note {\n",
       "        --rz-alert-icon: var(--rz-icon-info-circle);\n",
       "        --rz-alert-border: unset;\n",
       "        --rz-alert-padding: unset;\n",
       "        --rz-alert-bg: unset;\n",
       "        --rz-alert-color: unset;\n",
       "    }\n",
       "\n",
       "    .rz-alert--warning {\n",
       "        --rz-alert-icon: var(--rz-icon-exclamation-triangle);\n",
       "        --rz-alert-border: unset;\n",
       "        --rz-alert-padding: unset;\n",
       "        --rz-alert-bg: unset;\n",
       "        --rz-alert-color: unset;\n",
       "    }\n",
       "}\n",
       "\n",
       "/* table */\n",
       "table.rz-table {\n",
       "    font-size: var(--jp-content-font-size1);\n",
       "}\n",
       "\n",
       "table.rz-table thead th {\n",
       "    text-align: center !important;\n",
       "}\n",
       "\n",
       "table.rz-table td span.mjx-full-width {\n",
       "    width: unset !important;\n",
       "    display: inline-block !important;\n",
       "}</style>"
      ]
     },
     "metadata": {},
     "output_type": "display_data"
    }
   ],
   "source": [
    "import rubberize\n",
    "\n",
    "%load_ext rubberize"
   ]
  },
  {
   "cell_type": "markdown",
   "id": "56dea73b-42be-4b2a-8b91-04488a7eb38e",
   "metadata": {},
   "source": [
    "# Custom Types and Calls"
   ]
  },
  {
   "cell_type": "markdown",
   "id": "0a474d32-4e2e-48fe-bfda-9c35cf16946b",
   "metadata": {
    "editable": true,
    "slideshow": {
     "slide_type": ""
    },
    "tags": []
   },
   "source": [
    "If Rubberize encounters an object that it doesn't have a conversion for, it won't try to render a mathematical representation. Instead, it will simply render the variable name.\n",
    "\n",
    "For example, if you have a `Point` class defined as:"
   ]
  },
  {
   "cell_type": "code",
   "execution_count": 2,
   "id": "2db21754-0436-4617-be4d-6b4b06d5b0f6",
   "metadata": {
    "editable": true,
    "slideshow": {
     "slide_type": ""
    },
    "tags": []
   },
   "outputs": [],
   "source": [
    "class Point:\n",
    "    def __init__(self, x, y):\n",
    "        self.x = x\n",
    "        self.y = y\n",
    "\n",
    "    def distance_to(self, other):\n",
    "        return ((self.x - other.x) ** 2 + (self.y - other.y) ** 2) ** 0.5\n",
    "\n",
    "P_1 = Point(1, 2)"
   ]
  },
  {
   "cell_type": "markdown",
   "id": "aed1aa1a-cd53-4587-8c30-be03b2a43947",
   "metadata": {},
   "source": [
    "By default, Rubberize won’t know how to convert `Point`, so it will just output the variable name:"
   ]
  },
  {
   "cell_type": "code",
   "execution_count": 3,
   "id": "819de23e-518f-4cfc-a6a8-229a189ec070",
   "metadata": {
    "editable": true,
    "slideshow": {
     "slide_type": ""
    },
    "tags": []
   },
   "outputs": [
    {
     "data": {
      "text/html": [
       "<div class=\"rz-line\">\\( \\displaystyle P_{1} \\)</div>"
      ]
     },
     "metadata": {},
     "output_type": "display_data"
    }
   ],
   "source": [
    "%%tap\n",
    "P_1"
   ]
  },
  {
   "cell_type": "markdown",
   "id": "0a5923cb-29d9-40d3-b62a-ed93b579eeb5",
   "metadata": {},
   "source": [
    "This ensures that unknown objects doesn't cause unexpected output."
   ]
  },
  {
   "cell_type": "markdown",
   "id": "5b8bb935-49a2-4238-924a-5149dfb7f94b",
   "metadata": {},
   "source": [
    "## Creating an Object Converter"
   ]
  },
  {
   "cell_type": "markdown",
   "id": "2ea7e6d3-eb69-4558-aa70-8294ba4bd995",
   "metadata": {},
   "source": [
    "To handle such cases, you can use `register_objects_converter()` to define and add an appropriate converter function for the object type. This allows Rubberize to recognize and properly transform the object into a defined math representation.\n",
    "\n",
    "The register function takes **two arguments**:\n",
    "\n",
    "1. `cls`: A **class type**. This specifies which objects the converter should apply to.\n",
    "2. `func`: A **converter function**. This should function must be defined to take at least an instance of `cls` (which is the object to convert) and return an `ExprLatex` instance, which contains the LaTeX representation of the object, or `None` if the object should be considered unconvertible.\n",
    "\n",
    "Internally, this registration maps `cls` to `func`, so that when an instance of `cls` is encountered, Rubberize can look up the correct converter and apply it.\n",
    "\n",
    "Continuing the example above, we define `convert_point()` and register it as an object converter:"
   ]
  },
  {
   "cell_type": "code",
   "execution_count": 4,
   "id": "dceb551a-1f39-4559-87ee-de46321bc3ad",
   "metadata": {
    "editable": true,
    "slideshow": {
     "slide_type": ""
    },
    "tags": []
   },
   "outputs": [],
   "source": [
    "from rubberize.latexer.ranks import COLLECTIONS_RANK\n",
    "\n",
    "# Define the converter function\n",
    "def convert_point(obj):\n",
    "    return rubberize.ExprLatex(\n",
    "        rf\"\\mathrm{{Point}} \\langle {obj.x}, {obj.y} \\rangle\",  # The LaTeX to generate\n",
    "        rank=COLLECTIONS_RANK  # Precedence rank\n",
    "    )\n",
    "\n",
    "# Register the converter function\n",
    "rubberize.register_object_converter(Point, convert_point)"
   ]
  },
  {
   "cell_type": "markdown",
   "id": "1a11d5db-5647-458b-b381-41edf01e52d1",
   "metadata": {},
   "source": [
    "Now, when we try to render the object, it will be rendered correctly:"
   ]
  },
  {
   "cell_type": "code",
   "execution_count": 5,
   "id": "435f67f4-daa3-40db-8adc-f7d94ac696e8",
   "metadata": {},
   "outputs": [
    {
     "data": {
      "text/html": [
       "<div class=\"rz-line\">\\( \\displaystyle P_{1} = \\mathrm{Point} \\langle 1, 2 \\rangle \\)</div>"
      ]
     },
     "metadata": {},
     "output_type": "display_data"
    }
   ],
   "source": [
    "%%tap\n",
    "P_1"
   ]
  },
  {
   "cell_type": "markdown",
   "id": "fb7fdd13-2bbf-4907-8cd2-729aff11e795",
   "metadata": {},
   "source": [
    "### Assigning a Rank"
   ]
  },
  {
   "cell_type": "markdown",
   "id": "56bf94a7-c82c-4502-9759-a0ff8242860b",
   "metadata": {},
   "source": [
    "When creating an `ExprLatex` instance, you can specify a **rank** to indicate the precedence of an expression. **A larger rank means a higher precedence**. This rank determines whether Rubberize will apply parentheses around the expression when included as an operand in a larger mathematical expression.\n",
    "\n",
    "A **rank** is actually an integer value, but `rubberize.latexer.ranks` provide self-explanatory helper constants for the assignment:\n",
    "\n",
    "| Helper Constant    | Rank Value | Helper Constant    | Rank Value |\n",
    "|--------------------|------------|--------------------|------------|\n",
    "| `VALUE_RANK`       | `9_001`    | `DIV_RANK`         | `130`      |\n",
    "| `COLLECTIONS_RANK` | `180`      | `BELOW_MULT_RANK`  | `129`      |\n",
    "| `POW_RANK`         | `150`      | `ADD_RANK`         | `120`      |\n",
    "| `BELOW_POW_RANK`   | `149`      | `SUB_RANK`         | `120`      |\n",
    "| `MULT_RANK`        | `130`      | `BELOW_ADD_RANK`   | `119`      |\n",
    "\n",
    "\n",
    "If no explicit rank is provided, it is assigned a rank of `VALUE_RANK`, which represents standalone values that do not require parentheses unless explicitly needed."
   ]
  },
  {
   "cell_type": "markdown",
   "id": "63792a01-81aa-4fb6-958c-37bb22d1375a",
   "metadata": {},
   "source": [
    "## Creating a Call Converter"
   ]
  },
  {
   "cell_type": "markdown",
   "id": "221e8cd8-fddb-4164-9a51-5c91456d3e1f",
   "metadata": {},
   "source": [
    "Continuing the example, if we try to render an instantiation of another `Point` and call the `distance_to()` method:"
   ]
  },
  {
   "cell_type": "code",
   "execution_count": 6,
   "id": "a26d956e-ffc7-4f45-8715-0a5b188bbcef",
   "metadata": {
    "editable": true,
    "slideshow": {
     "slide_type": ""
    },
    "tags": []
   },
   "outputs": [
    {
     "data": {
      "text/html": [
       "<div class=\"rz-line\">\\( \\displaystyle P_{2} = \\operatorname{Point} \\left( 3,\\, 3 \\right) = \\mathrm{Point} \\langle 3, 3 \\rangle \\)</div>\n",
       "<div class=\"rz-line\">\\( \\displaystyle P_{1}.\\operatorname{distance}_{\\mathrm{to}} \\left( P_{2} \\right) = \\mathrm{Point} \\langle 1, 2 \\rangle.\\operatorname{distance}_{\\mathrm{to}} \\left( \\mathrm{Point} \\langle 3, 3 \\rangle \\right) = 2.24 \\)</div>"
      ]
     },
     "metadata": {},
     "output_type": "display_data"
    }
   ],
   "source": [
    "%%tap\n",
    "P_2 = Point(3, 3)\n",
    "P_1.distance_to(P_2)"
   ]
  },
  {
   "cell_type": "markdown",
   "id": "4726bb27-f4d2-4da5-980c-b2e54022126c",
   "metadata": {},
   "source": [
    "Calls are rendered as general function operators.\n",
    "\n",
    "If you want, you can also define and add appropriate converters for instatiations, and function and method calls so that they are also rendered beautifully. For that, you can use `register_call_converter()`.\n",
    "\n",
    "The register function takes **two arguments**:\n",
    "\n",
    "1. `name`: A **string**. This specifies the class, function, or method name the converter should apply to.\n",
    "2. `func`: A **converter function**, which can be one of the common converters from `rubberize.latexer.calls.common`, or a fully customized one."
   ]
  },
  {
   "cell_type": "markdown",
   "id": "9a37dc7c-ac92-455e-814c-06c7fedcbb6b",
   "metadata": {},
   "source": [
    "### Using a Common Converter"
   ]
  },
  {
   "cell_type": "markdown",
   "id": "20cc7295-f965-4005-9414-d7173412761d",
   "metadata": {},
   "source": [
    "Rubberize has several ready-made call converter functions, all of which are available in `rubberize.latexer.calls.common`:\n",
    "\n",
    "| Converter                | Args in addition to<br>`visitor` and `call`        | Purpose                                                                                                                                                  |\n",
    "| ------------------------ | -------------------------------------------------- | -------------------------------------------------------------------------------------------------------------------------------------------------------- |\n",
    "| `get_result_and_convert` | None                                               | Gets the resulting object of a call node's call, and then renders the resulting object.                                                                  |\n",
    "| `wrap`                   | `prefix, suffix[, sep=\",\\, \", *, rank=VALUE_RANK]` | Adds prefix (`prefix`), suffix (`suffix`), and optional separator (`sep`) to arguments. Can also be assigned a precedence rank (`rank`).                 |\n",
    "| `wrap_method`            | `prefix, suffix[, sep=\",\\, \", *, rank=VALUE_RANK]` | Same as `wrap`, but treats the attribute value as the first argument.                                                                                    |\n",
    "| `rename`                 | `name[, *, rank=VALUE_RANK]`                       | Changes the operator name to a specified one (`name`). Can also be assigned a precedence rank (`rank`).                                                  |\n",
    "| `unary`                  | `prefix[, suffix=\"\"]`                              | Create an unary function using a prefix (`prefix`) and optional suffix (`suffix`) to render something like $\\cos x$ instead of $\\operatorname {cos}(x)$. |\n",
    "| `first_arg`              | None                                               | Returns only the first argument of the call, effectively hiding the call on the first arg.                                                               |\n",
    "| `hide_method`            | `cls`                                              | Renders the parent object of a method call if the parent matches `cls` and hides the method call and its arguments.                                      |\n",
    "\n",
    "If the common conversion function takes more than two arguments, you can use a `lambda` to pass `visitor` and `call` to the converter and supply your own arguments to the rest.\n",
    "\n",
    "Continuing the example, we register converters for `Point()` and `distance_to()`:"
   ]
  },
  {
   "cell_type": "code",
   "execution_count": 7,
   "id": "2919f7ee-0ea9-46d0-a6c6-3e702a8a69ec",
   "metadata": {
    "editable": true,
    "slideshow": {
     "slide_type": ""
    },
    "tags": []
   },
   "outputs": [],
   "source": [
    "# Import Rubberize helper functions as needed\n",
    "from rubberize.latexer.calls.common import get_result_and_convert, wrap_method\n",
    "from rubberize.latexer.ranks import BELOW_ADD_RANK\n",
    "\n",
    "# Register the call converter functions\n",
    "rubberize.register_call_converter(\"Point\", get_result_and_convert)\n",
    "rubberize.register_call_converter(\n",
    "    \"distance_to\",\n",
    "    lambda v, c: wrap_method(v, c, \"\", \"\", r\" \\longleftrightarrow \", rank=BELOW_ADD_RANK),\n",
    ")"
   ]
  },
  {
   "cell_type": "markdown",
   "id": "53c2bd0a-9bd7-4cee-9c3b-72ebf73da14e",
   "metadata": {},
   "source": [
    "Now, when we try to render the calls, it will be rendered correctly:"
   ]
  },
  {
   "cell_type": "code",
   "execution_count": 8,
   "id": "442203d3-b048-4596-a59a-2db841a9e94d",
   "metadata": {
    "editable": true,
    "slideshow": {
     "slide_type": ""
    },
    "tags": []
   },
   "outputs": [
    {
     "data": {
      "text/html": [
       "<div class=\"rz-line\">\\( \\displaystyle P_{2} = \\mathrm{Point} \\langle 3, 3 \\rangle \\)</div>\n",
       "<div class=\"rz-line\">\\( \\displaystyle \\left( P_{1} \\longleftrightarrow P_{2} \\right) + 7 = \\left( \\mathrm{Point} \\langle 1, 2 \\rangle \\longleftrightarrow \\mathrm{Point} \\langle 3, 3 \\rangle \\right) + 7 = 9.24 \\)</div>"
      ]
     },
     "metadata": {},
     "output_type": "display_data"
    }
   ],
   "source": [
    "%%tap\n",
    "P_2 = Point(3, 3)\n",
    "P_1.distance_to(P_2) + 7"
   ]
  },
  {
   "cell_type": "markdown",
   "id": "2c366470-7866-45ff-9a98-b1ad8f0c1c58",
   "metadata": {},
   "source": [
    "### Creating Your Own Converter Function"
   ]
  },
  {
   "cell_type": "markdown",
   "id": "7d15c95b-58ee-4658-a1d0-ed7a6a7a3021",
   "metadata": {},
   "source": [
    "If you want more control, you can supply your own conversion function. However this requires more familiarity with Rubberize's `ExprVisitor` class and `node_helper` functions, as well as Python's `ast` library.\n",
    "\n",
    "The custom conversion function `func` must be defined to take at least two arguments:\n",
    "\n",
    "1. An instance of the `ExprVisitor` class that contains `ast` node visitor methods and the namespace (a dictionary mapping of names and objects for the environment) that can be used within the function for object lookups if needed.\n",
    "2. An `ast.Call` node, which is the AST representation of the call to be converted.\n",
    "\n",
    "`func` must return an `ExprLatex` instance, which contains the LaTeX representation of the call, or `None` if the call should be considered unconvertible."
   ]
  },
  {
   "cell_type": "code",
   "execution_count": 9,
   "id": "8319e3c5-d374-4f49-8918-5a74f680fa4a",
   "metadata": {},
   "outputs": [],
   "source": [
    "from rubberize.latexer.node_helpers import get_object\n",
    "from rubberize.latexer.objects import convert_object\n",
    "from rubberize.latexer.ranks import BELOW_POW_RANK\n",
    "\n",
    "# Define the call converter function for distance_to_call()\n",
    "def convert_distance_to_call(visitor, call):\n",
    "    obj0 = get_object(call.func.value, visitor.namespace)\n",
    "    obj1 = get_object(call.func.value, visitor.namespace)\n",
    "    \n",
    "    x0 = convert_object(obj0.x).latex\n",
    "    y0 = convert_object(obj0.y).latex\n",
    "    x1 = convert_object(obj1.x).latex\n",
    "    y1 = convert_object(obj1.y).latex\n",
    "    \n",
    "    return rubberize.ExprLatex(\n",
    "        rf\"\\sqrt{{({x0} - {x1})^{{2}} + ({y0} - {y1})^{{2}}}}\", BELOW_POW_RANK\n",
    "    )\n",
    "\n",
    "# Register the converter\n",
    "rubberize.register_call_converter(\"distance_to\", convert_distance_to_call)"
   ]
  },
  {
   "cell_type": "markdown",
   "id": "909d5973-11bb-4983-bbd7-ffa1232bc84f",
   "metadata": {
    "editable": true,
    "slideshow": {
     "slide_type": ""
    },
    "tags": []
   },
   "source": [
    "Now, the method call will be rendered like so:"
   ]
  },
  {
   "cell_type": "code",
   "execution_count": 10,
   "id": "e4cd92a3-c557-4d58-9c16-8c67bc0d06dc",
   "metadata": {
    "editable": true,
    "slideshow": {
     "slide_type": ""
    },
    "tags": []
   },
   "outputs": [
    {
     "data": {
      "text/html": [
       "<div class=\"rz-line\">\\( \\displaystyle \\sqrt{(1 - 1)^{2} + (2 - 2)^{2}} = 2.24 \\)</div>"
      ]
     },
     "metadata": {},
     "output_type": "display_data"
    }
   ],
   "source": [
    "%%tap\n",
    "P_1.distance_to(P_2)"
   ]
  }
 ],
 "metadata": {
  "kernelspec": {
   "display_name": "Python 3 (ipykernel)",
   "language": "python",
   "name": "python3"
  },
  "language_info": {
   "codemirror_mode": {
    "name": "ipython",
    "version": 3
   },
   "file_extension": ".py",
   "mimetype": "text/x-python",
   "name": "python",
   "nbconvert_exporter": "python",
   "pygments_lexer": "ipython3",
   "version": "3.12.9"
  }
 },
 "nbformat": 4,
 "nbformat_minor": 5
}
