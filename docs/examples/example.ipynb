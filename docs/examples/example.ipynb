{
 "cells": [
  {
   "cell_type": "markdown",
   "id": "88ac4cb1-90ac-4746-8923-2ae9f3e4fef1",
   "metadata": {
    "editable": true,
    "slideshow": {
     "slide_type": ""
    },
    "tags": []
   },
   "source": [
    "# Rubberize"
   ]
  },
  {
   "attachments": {},
   "cell_type": "markdown",
   "id": "b2a79637-1ca1-44fd-9f15-3ece75ee4aa1",
   "metadata": {},
   "source": [
    "In a typical _notebook environment_, a Python code cell behaves like this:"
   ]
  },
  {
   "cell_type": "code",
   "execution_count": 1,
   "id": "e317f324-8682-4316-b2d1-24a28063ea8c",
   "metadata": {},
   "outputs": [
    {
     "name": "stdout",
     "output_type": "stream",
     "text": [
      "15.244444444444444\n"
     ]
    }
   ],
   "source": [
    "L = 2800.0\n",
    "w_y = 1.2\n",
    "E_a = 70_000.0\n",
    "I_x = 9.0e5\n",
    "\n",
    "delta_max = (5 * w_y * L**4) / (384 * E_a * I_x)\n",
    "print(delta_max)"
   ]
  },
  {
   "cell_type": "markdown",
   "id": "c6d0de22-f0ae-4a9c-9357-1606c45700a0",
   "metadata": {},
   "source": [
    "The code is executed by the Python _kernel_, but variable values remain hidden until explicitly rendered (in the above example using `print()`). While this is typically not an inssue, it can become a challenge in engineering contexts where calculations must be peer-reviewed.\n",
    "\n",
    "Engineering reports often require calculations to be presented in an intuitive format. However, in a _notebook_, expressions are written in programming syntax, making them harder to read. Intermediate values in a chain of calculations remain hidden unless explicitly rendered, turning the process into a tedious formatting task.\n",
    "\n",
    "**Rubberize** solves this problem by rendering Python code to mathematical notation. It can also automatically display the numeric substitutions and calculation results for each statement. In a _notebook environment_, it transforms your code, including comments, into well-formatted calculation pages, making engineering calculations clearer and easier to review."
   ]
  },
  {
   "cell_type": "markdown",
   "id": "1b20057a-57bf-4289-99ea-6df4f619afd4",
   "metadata": {},
   "source": [
    "## Cell Magic"
   ]
  },
  {
   "cell_type": "markdown",
   "id": "28b2e703-e639-4248-8c8b-96e32907e1a2",
   "metadata": {},
   "source": [
    "To use **Ruberize** in a _notebook_, import it. Once imported, just use the cell magic `%%tap` to render the code cell. No more `print(delta_max)` call needed!"
   ]
  },
  {
   "cell_type": "code",
   "execution_count": 2,
   "id": "11f810de-e4c7-47e6-bb06-3fcfc78fb3d1",
   "metadata": {},
   "outputs": [
    {
     "data": {
      "text/html": [
       "<style>:root {\n",
       "    --rz-icon-check-circle: url('data:image/svg+xml,<svg xmlns=\"http://www.w3.org/2000/svg\" width=\"16\" height=\"16\" fill=\"%23000\" class=\"bi bi-check-circle\" viewBox=\"0 0 16 16\"><path d=\"M8 15A7 7 0 1 1 8 1a7 7 0 0 1 0 14m0 1A8 8 0 1 0 8 0a8 8 0 0 0 0 16\"/><path d=\"m10.97 4.97-.02.022-3.473 4.425-2.093-2.094a.75.75 0 0 0-1.06 1.06L6.97 11.03a.75.75 0 0 0 1.079-.02l3.992-4.99a.75.75 0 0 0-1.071-1.05\"/></svg>');\n",
       "    --rz-icon-check-circle-fill-green: url('data:image/svg+xml,<svg xmlns=\"http://www.w3.org/2000/svg\" width=\"16\" height=\"16\" fill=\"%230a3622\" class=\"bi bi-check-circle-fill\" viewBox=\"0 0 16 16\"><path d=\"M16 8A8 8 0 1 1 0 8a8 8 0 0 1 16 0m-3.97-3.03a.75.75 0 0 0-1.08.022L7.477 9.417 5.384 7.323a.75.75 0 0 0-1.06 1.06L6.97 11.03a.75.75 0 0 0 1.079-.02l3.992-4.99a.75.75 0 0 0-.01-1.05z\"/></svg>');\n",
       "    --rz-icon-x-circle: url('data:image/svg+xml,<svg xmlns=\"http://www.w3.org/2000/svg\" width=\"16\" height=\"16\" fill=\"%23000\" class=\"bi bi-x-circle\" viewBox=\"0 0 16 16\"><path d=\"M8 15A7 7 0 1 1 8 1a7 7 0 0 1 0 14m0 1A8 8 0 1 0 8 0a8 8 0 0 0 0 16\"/><path d=\"M4.646 4.646a.5.5 0 0 1 .708 0L8 7.293l2.646-2.647a.5.5 0 0 1 .708.708L8.707 8l2.647 2.646a.5.5 0 0 1-.708.708L8 8.707l-2.646 2.647a.5.5 0 0 1-.708-.708L7.293 8 4.646 5.354a.5.5 0 0 1 0-.708\"/></svg>');\n",
       "    --rz-icon-x-circle-fill-red: url('data:image/svg+xml,<svg xmlns=\"http://www.w3.org/2000/svg\" width=\"16\" height=\"16\" fill=\"%2358151c\" class=\"bi bi-x-circle-fill\" viewBox=\"0 0 16 16\"><path d=\"M16 8A8 8 0 1 1 0 8a8 8 0 0 1 16 0M5.354 4.646a.5.5 0 1 0-.708.708L7.293 8l-2.647 2.646a.5.5 0 0 0 .708.708L8 8.707l2.646 2.647a.5.5 0 0 0 .708-.708L8.707 8l2.647-2.646a.5.5 0 0 0-.708-.708L8 7.293z\"/></svg>');\n",
       "    --rz-icon-info-circle: url('data:image/svg+xml,<svg xmlns=\"http://www.w3.org/2000/svg\" width=\"16\" height=\"16\" fill=\"%23000\" class=\"bi bi-info-circle\" viewBox=\"0 0 16 16\"><path d=\"M8 15A7 7 0 1 1 8 1a7 7 0 0 1 0 14m0 1A8 8 0 1 0 8 0a8 8 0 0 0 0 16\"/><path d=\"m8.93 6.588-2.29.287-.082.38.45.083c.294.07.352.176.288.469l-.738 3.468c-.194.897.105 1.319.808 1.319.545 0 1.178-.252 1.465-.598l.088-.416c-.2.176-.492.246-.686.246-.275 0-.375-.193-.304-.533zM9 4.5a1 1 0 1 1-2 0 1 1 0 0 1 2 0\"/></svg>');\n",
       "    --rz-icon-info-circle-fill-blue: url('data:image/svg+xml,<svg xmlns=\"http://www.w3.org/2000/svg\" width=\"16\" height=\"16\" fill=\"%23052c65\" class=\"bi bi-info-circle-fill\" viewBox=\"0 0 16 16\"><path d=\"M8 16A8 8 0 1 0 8 0a8 8 0 0 0 0 16m.93-9.412-1 4.705c-.07.34.029.533.304.533.194 0 .487-.07.686-.246l-.088.416c-.287.346-.92.598-1.465.598-.703 0-1.002-.422-.808-1.319l.738-3.468c.064-.293.006-.399-.287-.47l-.451-.081.082-.381 2.29-.287zM8 5.5a1 1 0 1 1 0-2 1 1 0 0 1 0 2\"/></svg>');\n",
       "    --rz-icon-exclamation-triangle: url('data:image/svg+xml,<svg xmlns=\"http://www.w3.org/2000/svg\" width=\"16\" height=\"16\" fill=\"%23000\" class=\"bi bi-exclamation-triangle\" viewBox=\"0 0 16 16\"><path d=\"M7.938 2.016A.13.13 0 0 1 8.002 2a.13.13 0 0 1 .063.016.15.15 0 0 1 .054.057l6.857 11.667c.036.06.035.124.002.183a.2.2 0 0 1-.054.06.1.1 0 0 1-.066.017H1.146a.1.1 0 0 1-.066-.017.2.2 0 0 1-.054-.06.18.18 0 0 1 .002-.183L7.884 2.073a.15.15 0 0 1 .054-.057m1.044-.45a1.13 1.13 0 0 0-1.96 0L.165 13.233c-.457.778.091 1.767.98 1.767h13.713c.889 0 1.438-.99.98-1.767z\"/><path d=\"M7.002 12a1 1 0 1 1 2 0 1 1 0 0 1-2 0M7.1 5.995a.905.905 0 1 1 1.8 0l-.35 3.507a.552.552 0 0 1-1.1 0z\"/></svg>');\n",
       "    --rz-icon-exclamation-triangle-fill-yellow: url('data:image/svg+xml,<svg xmlns=\"http://www.w3.org/2000/svg\" width=\"16\" height=\"16\" fill=\"%23664d03\" class=\"bi bi-exclamation-triangle-fill\" viewBox=\"0 0 16 16\"><path d=\"M8.982 1.566a1.13 1.13 0 0 0-1.96 0L.165 13.233c-.457.778.091 1.767.98 1.767h13.713c.889 0 1.438-.99.98-1.767zM8 5c.535 0 .954.462.9.995l-.35 3.507a.552.552 0 0 1-1.1 0L7.1 5.995A.905.905 0 0 1 8 5m.002 6a1 1 0 1 1 0 2 1 1 0 0 1 0-2\"/></svg>');\n",
       "}\n",
       "\n",
       ".jp-RenderedHTMLCommon p {\n",
       "    text-align: justify;\n",
       "}\n",
       "\n",
       "@media print {\n",
       "    @page {\n",
       "        size: A4;\n",
       "        margin: 1in;\n",
       "      }\n",
       "      \n",
       "    :root {\n",
       "        --jp-notebook-padding: 0 !important;\n",
       "        --jp-cell-padding: 0 !important;\n",
       "        --jp-code-padding: 0 !important;\n",
       "        \n",
       "        --jp-content-font-size0: 0.83333em !important;\n",
       "        --jp-content-font-size1: 9pt !important;\n",
       "        --jp-content-font-size2: 1.1em !important;\n",
       "        --jp-content-font-size3: 1.21em !important;\n",
       "        --jp-content-font-size4: 1.331em !important;\n",
       "        --jp-content-font-size5: 1.5972em !important;\n",
       "    \n",
       "        --jp-content-font-family: arial, sans-serif,\n",
       "            'Apple Color Emoji', 'Segoe UI Emoji', 'Segoe UI Symbol';  \n",
       "    }\n",
       "\n",
       "    body {\n",
       "        margin: 0 !important;\n",
       "    }\n",
       "\n",
       "    h1, h2, h3, h4, h5, h6 {\n",
       "        font-weight: bold !important;\n",
       "        break-after: avoid-page;\n",
       "    }\n",
       "}\n",
       "\n",
       "/* param container */\n",
       ".rz-grid-container {\n",
       "    display: grid;\n",
       "    grid-template-columns: repeat(auto-fit, minmax(1.5in, 1fr));\n",
       "    align-items: baseline;\n",
       "    gap: 0 1em;\n",
       "}\n",
       "\n",
       "/* line */\n",
       "\n",
       ".rz-line {\n",
       "    margin-bottom: 1em;\n",
       "}\n",
       "\n",
       ".rz-line__main {\n",
       "    flex: 1 1 auto;\n",
       "}\n",
       "\n",
       ".rz-line__desc {\n",
       "    flex: 0 1 2.5in;\n",
       "    margin-left: auto;\n",
       "}\n",
       "\n",
       ".rz-line:has(> .rz-line__desc) {\n",
       "    display: flex;\n",
       "    flex-wrap: wrap;\n",
       "    align-items: baseline;\n",
       "    gap: 0.25em 1em;\n",
       "}\n",
       "\n",
       ".rz-line--mark {\n",
       "    padding-left: 0.5em;\n",
       "    border-left: 0.25em solid;\n",
       "}\n",
       "\n",
       ".rz-line--mark-noprint {\n",
       "    padding-left: 0.5em;\n",
       "    border-left: 0.25em solid #dc3545;\n",
       "}\n",
       "\n",
       ".rz-line--hi mjx-math,\n",
       ".rz-line--hi .mjx-math,\n",
       ".rz-line--yhi mjx-math,\n",
       ".rz-line--yhi .mjx-math {\n",
       "    padding: 3px;\n",
       "    background-color: #fff3cd;\n",
       "}\n",
       "\n",
       ".rz-line--hi-noprint mjx-math,\n",
       ".rz-line--hi-noprint .mjx-math,\n",
       ".rz-line--yhi-noprint mjx-math,\n",
       ".rz-line--yhi-noprint .mjx-math {\n",
       "    border: 1px dashed #ffda6a;\n",
       "    padding: 3px;\n",
       "    background-color: #fff3cd;\n",
       "}\n",
       "\n",
       ".rz-line--rhi mjx-math,\n",
       ".rz-line--rhi .mjx-math {\n",
       "    padding: 3px;\n",
       "    background-color: #f9d7da;\n",
       "}\n",
       "\n",
       ".rz-line--rhi-noprint mjx-math,\n",
       ".rz-line--rhi-noprint .mjx-math {\n",
       "    border: 1px dashed #eb868f;\n",
       "    padding: 3px;\n",
       "    background-color: #f9d7da;\n",
       "}\n",
       "\n",
       ".rz-line--ghi mjx-math,\n",
       ".rz-line--ghi .mjx-math {\n",
       "    padding: 3px;\n",
       "    background-color: #d1e7de;\n",
       "}\n",
       "\n",
       ".rz-line--ghi-noprint mjx-math,\n",
       ".rz-line--ghi-noprint .mjx-math {\n",
       "    border: 1px dashed #75b798;\n",
       "    padding: 3px;\n",
       "    background-color: #d1e7de;\n",
       "}\n",
       "\n",
       ".rz-line--bhi mjx-math,\n",
       ".rz-line--bhi .mjx-math {\n",
       "    padding: 3px;\n",
       "    background-color: #d0e2ff;\n",
       "}\n",
       "\n",
       ".rz-line--bhi-noprint mjx-math,\n",
       ".rz-line--bhi-noprint .mjx-math {\n",
       "    border: 1px dashed #6ea8fe;\n",
       "    padding: 3px;\n",
       "    background-color: #d0e2ff;\n",
       "}\n",
       "\n",
       "@media print {\n",
       "    .rz-line--mark-noprint {\n",
       "        padding-left: unset;\n",
       "        border-left: unset;\n",
       "    }\n",
       "    \n",
       "    .rz-line--hi-noprint mjx-math,\n",
       "    .rz-line--hi-noprint .mjx-math,\n",
       "    .rz-line--rhi-noprint mjx-math,\n",
       "    .rz-line--rhi-noprint .mjx-math,\n",
       "    .rz-line--yhi-noprint mjx-math,\n",
       "    .rz-line--yhi-noprint .mjx-math,\n",
       "    .rz-line--ghi-noprint mjx-math,\n",
       "    .rz-line--ghi-noprint .mjx-math,\n",
       "    .rz-line--bhi-noprint mjx-math,\n",
       "    .rz-line--bhi-noprint .mjx-math {\n",
       "        border: unset;\n",
       "        padding: unset;\n",
       "        background-color: unset;\n",
       "    }\n",
       "}\n",
       "\n",
       ".rz-body {\n",
       "    padding-left: 1.5em;\n",
       "}\n",
       "\n",
       "/* header */\n",
       "\n",
       ".rz-header {\n",
       "    margin-bottom: 1em;\n",
       "    border-bottom: 1px solid;\n",
       "    padding-bottom: 0.5em;\n",
       "}\n",
       "\n",
       ".rz-header h1 {\n",
       "    margin-top: 1em;\n",
       "    margin-bottom: 0.5em;\n",
       "}\n",
       "\n",
       ".rz-header p {\n",
       "    margin-bottom: 0.5em;\n",
       "}\n",
       "\n",
       ".rz-header ul {\n",
       "    margin-top: 0;\n",
       "    margin-bottom: 0.5em;\n",
       "    padding-left: 0 !important;\n",
       "    font-size: var(--jp-content-font-size0);\n",
       "    list-style: none;\n",
       "\n",
       "}\n",
       "\n",
       ".rz-header :last-child {\n",
       "    margin-bottom: 0;\n",
       "}\n",
       "\n",
       "/* alert */\n",
       "\n",
       ".rz-alert {\n",
       "    display: grid;\n",
       "    grid-template-columns: auto 1fr;\n",
       "    gap: calc(var(--rz-alert-icon-size, 1em) * 0.5);\n",
       "    align-items: center;\n",
       "    margin-bottom: 1em;\n",
       "\n",
       "    border: var(--rz-alert-border);\n",
       "    border-left: var(--rz-alert-border-left);\n",
       "    padding: var(--rz-alert-padding);\n",
       "    background-color: var(--rz-alert-bg);\n",
       "    color: var(--rz-alert-color);\n",
       "    font-size: var(--rz-alert-font-size);\n",
       "    font-weight: var(--rz-alert-font-weight);\n",
       "}\n",
       "\n",
       ".rz-alert::before {\n",
       "    content: \"\";\n",
       "    width: var(--rz-alert-icon-size, 1em);\n",
       "    height: var(--rz-alert-icon-size, 1em);\n",
       "    background-image: var(--rz-alert-icon, var(--rz-icon-info-circle));\n",
       "    background-size: contain;\n",
       "    background-repeat: no-repeat;\n",
       "}\n",
       "\n",
       ".rz-alert__content :last-child {\n",
       "    margin-bottom: 0;\n",
       "}\n",
       "\n",
       ".rz-alert--noprint {\n",
       "    --rz-alert-border: 1px dashed var(--rz-alert-color);\n",
       "}\n",
       "\n",
       ".rz-alert--pass {\n",
       "    --rz-alert-icon-size: 1.5em;\n",
       "    --rz-alert-icon: var(--rz-icon-check-circle-fill-green);\n",
       "    --rz-alert-border-left: 0.25em solid #0a3622;\n",
       "    --rz-alert-padding: 0.5em;\n",
       "    --rz-alert-bg: #d1e7de;\n",
       "    --rz-alert-color: #0a3622;\n",
       "    --rz-alert-font-weight: 500;\n",
       "}\n",
       "\n",
       ".rz-alert--fail {\n",
       "    --rz-alert-icon-size: 1.5em;\n",
       "    --rz-alert-icon: var(--rz-icon-x-circle-fill-red);\n",
       "    --rz-alert-border-left: 0.25em solid #58151c;\n",
       "    --rz-alert-padding: 0.5em;\n",
       "    --rz-alert-bg: #f9d7da;\n",
       "    --rz-alert-color: #58151c;\n",
       "    --rz-alert-font-weight: 500;\n",
       "}\n",
       "\n",
       ".rz-alert--note {\n",
       "    --rz-alert-icon-size: 1.2em;\n",
       "    --rz-alert-icon: var(--rz-icon-info-circle-fill-blue);\n",
       "    --rz-alert-border-left: 0.25em solid #052c65;\n",
       "    --rz-alert-padding: 0.5em;\n",
       "    --rz-alert-bg: #d0e2ff;\n",
       "    --rz-alert-color: #052c65;\n",
       "}\n",
       "\n",
       ".rz-alert--warning {\n",
       "    --rz-alert-icon-size: 1.2em;\n",
       "    --rz-alert-icon: var(--rz-icon-exclamation-triangle-fill-yellow);\n",
       "    --rz-alert-border-left: 0.25em solid #664d03;\n",
       "    --rz-alert-padding: 0.5em;\n",
       "    --rz-alert-bg: #fff3cd;\n",
       "    --rz-alert-color: #664d03;\n",
       "}\n",
       "\n",
       "@media print {\n",
       "    .rz-alert--noprint {\n",
       "        display: none !important;\n",
       "    }\n",
       "\n",
       "    .rz-alert--pass {\n",
       "        --rz-alert-icon: var(--rz-icon-check-circle);\n",
       "        --rz-alert-border-left: unset;\n",
       "        --rz-alert-padding: unset;\n",
       "        --rz-alert-bg: unset;\n",
       "        --rz-alert-color: unset;\n",
       "        --rz-alert-font-weight: bold;\n",
       "    }\n",
       "\n",
       "    .rz-alert--fail {\n",
       "        --rz-alert-icon: var(--rz-icon-x-circle);\n",
       "        --rz-alert-border-left: unset;\n",
       "        --rz-alert-padding: unset;\n",
       "        --rz-alert-bg: unset;\n",
       "        --rz-alert-color: unset;\n",
       "        --rz-alert-font-weight: bold;\n",
       "    }\n",
       "\n",
       "    .rz-alert--note {\n",
       "        --rz-alert-icon: var(--rz-icon-info-circle);\n",
       "        --rz-alert-border-left: unset;\n",
       "        --rz-alert-padding: unset;\n",
       "        --rz-alert-bg: unset;\n",
       "        --rz-alert-color: unset;\n",
       "    }\n",
       "\n",
       "    .rz-alert--warning {\n",
       "        --rz-alert-icon: var(--rz-icon-exclamation-triangle);\n",
       "        --rz-alert-border-left: unset;\n",
       "        --rz-alert-padding: unset;\n",
       "        --rz-alert-bg: unset;\n",
       "        --rz-alert-color: unset;\n",
       "    }\n",
       "}\n",
       "\n",
       "/* table */\n",
       "table.rz-table {\n",
       "    font-size: var(--jp-content-font-size1);\n",
       "}\n",
       "\n",
       "table.rz-table thead th {\n",
       "    text-align: center !important;\n",
       "}\n",
       "\n",
       "table.rz-table td span.mjx-full-width {\n",
       "    width: unset !important;\n",
       "    display: inline-block !important;\n",
       "}</style>"
      ]
     },
     "metadata": {},
     "output_type": "display_data"
    }
   ],
   "source": [
    "import rubberize\n",
    "%load_ext rubberize"
   ]
  },
  {
   "cell_type": "code",
   "execution_count": 3,
   "id": "404f2111-b3e0-402d-aef6-dae4d5382f1a",
   "metadata": {},
   "outputs": [
    {
     "data": {
      "text/html": [
       "<div class=\"rz-line\">\\( \\displaystyle L = 2\\,800.00 \\)</div>\n",
       "<div class=\"rz-line\">\\( \\displaystyle w_{y} = 1.20 \\)</div>\n",
       "<div class=\"rz-line\">\\( \\displaystyle E_{a} = 70\\,000.00 \\)</div>\n",
       "<div class=\"rz-line\">\\( \\displaystyle I_{x} = 900\\,000.00 \\)</div>\n",
       "<div class=\"rz-line\">\\( \\displaystyle \\delta_{\\mathrm{max}} = \\frac{5\\,w_{y}\\,L^{4}}{384\\,E_{a}\\,I_{x}} = \\frac{5 \\times 1.20 \\times 2\\,800.00^{4}}{384 \\times 70\\,000.00 \\times 900\\,000.00} = 15.24 \\)</div>"
      ]
     },
     "metadata": {},
     "output_type": "display_data"
    }
   ],
   "source": [
    "%%tap\n",
    "L = 2800.0\n",
    "w_y = 1.2\n",
    "E_a = 70_000.0\n",
    "I_x = 9.0e5\n",
    "\n",
    "delta_max = (5 * w_y * L**4) / (384 * E_a * I_x)  #"
   ]
  },
  {
   "cell_type": "markdown",
   "id": "21127e6b-f037-42ec-9244-572cb234bb18",
   "metadata": {},
   "source": [
    "## Comments"
   ]
  },
  {
   "cell_type": "markdown",
   "id": "5b1441fd-5d68-40a8-bc92-01e7ee1c9bba",
   "metadata": {},
   "source": [
    "When formatting calculations, you would likely need to include annotations to clarify variable definitions, explain assumptions in your analysis, and make references to codes and reference standards.\n",
    "\n",
    "You can add annotations using Python comments. Comments are ignored by the Python interpreter, making them perfect for documenting calculations without affecting the results. Comments can be _inline comments_, which are placed right after a line of code, or _line comments_, which are written on its own line. Both types are handled well by **Rubberize**.\n",
    "\n",
    "You can format your annotations using **Markdown**, a lightweight markup language that allows you to add formatting to plain text. With Markdown, you can include headings, lists, emphasis, and more, making your annotations easier to read and understand.\n",
    "\n",
    "Additionally, Rubberize introduces three custom syntaxes for enhanced formatting: `^...^` for small text, `\\\\` to force a line break within a line, and `> [!NOTE]` for a blockquote-style alert box. All of these are used in the example below:"
   ]
  },
  {
   "cell_type": "code",
   "execution_count": 4,
   "id": "429d3f52-e271-4964-a3af-85cd553acf83",
   "metadata": {},
   "outputs": [
    {
     "data": {
      "text/html": [
       "<div class=\"rz-alert rz-alert--note\">\n",
       "<div class=\"rz-alert__content\">\n",
       "<p>Calculate the <strong>maximum deflection</strong> of a simply-supported member:</p>\n",
       "</div>\n",
       "</div>\n",
       "<div class=\"rz-line\">\n",
       "    <div class=\"rz-line__main\">\\( \\displaystyle L = 2\\,800.00 \\)</div>\n",
       "    <div class=\"rz-line__desc\">Length of member in <em>mm</em></div>\n",
       "</div>\n",
       "<div class=\"rz-line\">\n",
       "    <div class=\"rz-line__main\">\\( \\displaystyle w_{y} = 1.20 \\)</div>\n",
       "    <div class=\"rz-line__desc\">Uniform load in <em>N/mm</em></div>\n",
       "</div>\n",
       "<div class=\"rz-line\">\n",
       "    <div class=\"rz-line__main\">\\( \\displaystyle E_{a} = 70\\,000.00 \\)</div>\n",
       "    <div class=\"rz-line__desc\">Modulus of elasticity in <em>MPa</em><br><small>For aluminum members</small></div>\n",
       "</div>\n",
       "<div class=\"rz-line\">\n",
       "    <div class=\"rz-line__main\">\\( \\displaystyle I_{x} = 900\\,000.00 \\)</div>\n",
       "    <div class=\"rz-line__desc\">Moment of inertia in <em>mm<sup>4</sup></em></div>\n",
       "</div>\n",
       "<div class=\"rz-line\">\n",
       "    <div class=\"rz-line__main\">\\( \\displaystyle \\delta_{\\mathrm{max}} = \\frac{5\\,w_{y}\\,L^{4}}{384\\,E_{a}\\,I_{x}} = \\frac{5 \\times 1.20 \\times 2\\,800.00^{4}}{384 \\times 70\\,000.00 \\times 900\\,000.00} = 15.24 \\)</div>\n",
       "    <div class=\"rz-line__desc\">Maximum deflection in <em>mm</em></div>\n",
       "</div>"
      ]
     },
     "metadata": {},
     "output_type": "display_data"
    }
   ],
   "source": [
    "%%tap\n",
    "# > [!NOTE]\n",
    "# > Calculate the **maximum deflection** of a simply-supported member:\n",
    "L = 2800.0      # Length of member in _mm_\n",
    "w_y = 1.2       # Uniform load in _N/mm_\n",
    "E_a = 70_000.0  # Modulus of elasticity in _MPa_ \\\\ ^For aluminum members^\n",
    "I_x = 9.0e5     # Moment of inertia in _mm<sup>4</sup>_\n",
    "\n",
    "delta_max = (5 * w_y * L**4) / (384 * E_a * I_x)  # Maximum deflection in _mm_"
   ]
  },
  {
   "cell_type": "markdown",
   "id": "ea64aba5-1255-404d-9501-a37494c911fb",
   "metadata": {},
   "source": [
    "## Units"
   ]
  },
  {
   "cell_type": "markdown",
   "id": "33fc6fbf-9a01-42f8-b564-1c945a8deb9e",
   "metadata": {},
   "source": [
    "If you're an engineer, you will probably work with physical quantities (such as length or force), which have _units_. Keeping track of units requires extra effort. In many calculation _environments_, units are often managed manually through comments (like in the previous example) or naming convention. It is easy to accidentally mix incompatible units using this approach—such as adding meters to millimeters or dividing force by an incorrect area—leading to incorrect results.\n",
    "\n",
    "**Rubberize** simplifies unit-aware calculations by integrating with **Pint**, which keeps track of the units of your physical quantities."
   ]
  },
  {
   "cell_type": "code",
   "execution_count": 5,
   "id": "34d981b1-c25e-421f-bfd5-90aeb3538c7d",
   "metadata": {},
   "outputs": [],
   "source": [
    "import pint\n",
    "ureg = pint.UnitRegistry()"
   ]
  },
  {
   "cell_type": "code",
   "execution_count": 6,
   "id": "291071ad-10ce-4918-84a2-cf8919362246",
   "metadata": {},
   "outputs": [
    {
     "data": {
      "text/html": [
       "<div class=\"rz-alert rz-alert--note\">\n",
       "<div class=\"rz-alert__content\">\n",
       "<p>Calculate the <strong>maximum deflection</strong> of a simply-supported member:</p>\n",
       "</div>\n",
       "</div>\n",
       "<div class=\"rz-line\">\n",
       "    <div class=\"rz-line__main\">\\( \\displaystyle L = 2\\,800.00\\ \\mathrm{mm} \\)</div>\n",
       "    <div class=\"rz-line__desc\">Length of member</div>\n",
       "</div>\n",
       "<div class=\"rz-line\">\n",
       "    <div class=\"rz-line__main\">\\( \\displaystyle w_{y} = 1.20\\ \\mathrm{N} / \\mathrm{mm} \\)</div>\n",
       "    <div class=\"rz-line__desc\">Uniform load</div>\n",
       "</div>\n",
       "<div class=\"rz-line\">\n",
       "    <div class=\"rz-line__main\">\\( \\displaystyle E_{a} = 70\\,000.00\\ \\mathrm{MPa} \\)</div>\n",
       "    <div class=\"rz-line__desc\">Modulus of elasticity<br><small>For aluminum members</small></div>\n",
       "</div>\n",
       "<div class=\"rz-line\">\n",
       "    <div class=\"rz-line__main\">\\( \\displaystyle I_{x} = 900\\,000.00\\ \\mathrm{mm}^{4} \\)</div>\n",
       "    <div class=\"rz-line__desc\">Moment of inertia</div>\n",
       "</div>\n",
       "<div class=\"rz-line\">\n",
       "    <div class=\"rz-line__main\">\\( \\displaystyle \\delta_{\\mathrm{max}} = \\frac{5\\,w_{y}\\,L^{4}}{384\\,E_{a}\\,I_{x}} = \\frac{5\\,\\left( 1.20\\ \\mathrm{N} / \\mathrm{mm} \\right)\\,\\left( 2\\,800.00\\ \\mathrm{mm} \\right)^{4}}{384\\,\\left( 70\\,000.00\\ \\mathrm{MPa} \\right)\\,\\left( 900\\,000.00\\ \\mathrm{mm}^{4} \\right)} = 15.24\\ \\mathrm{mm} \\)</div>\n",
       "    <div class=\"rz-line__desc\">Maximum deflection</div>\n",
       "</div>"
      ]
     },
     "metadata": {},
     "output_type": "display_data"
    }
   ],
   "source": [
    "%%tap\n",
    "# > [!NOTE]\n",
    "# > Calculate the **maximum deflection** of a simply-supported member:\n",
    "\n",
    "L = 2800.0 * ureg.mm            # Length of member\n",
    "w_y = 1.2 * (ureg.N / ureg.mm)  # Uniform load\n",
    "E_a = 70_000.0 * ureg.MPa       # Modulus of elasticity \\\\ ^For aluminum members^\n",
    "I_x = 9.0e5 * ureg.mm**4        # Moment of inertia\n",
    "delta_max = ((5 * w_y * L**4) / (384 * E_a * I_x)).to(ureg.mm)  # Maximum deflection"
   ]
  },
  {
   "cell_type": "markdown",
   "id": "98d22784-8c3c-4b7d-8ac0-02bf071e01d5",
   "metadata": {},
   "source": [
    "## Reporting Comparisons"
   ]
  },
  {
   "cell_type": "markdown",
   "id": "083950ee-b5b7-46db-9f25-d8215c36c27d",
   "metadata": {},
   "source": [
    "In engineering reports, computed values are often compared against allowable limits to determine if a design is safe. **Rubberize** provides the `CalcSheet` component to aid users in creating reports by managing these comparisons.\n",
    "\n",
    "When starting a calculation for a component analysis, instantiate a `CalcSheet` with at least a name and section number. Running `%%tap` on the code cell will transform it into a calculation sheet heading—ideally, this should be done in the first code cell."
   ]
  },
  {
   "cell_type": "code",
   "execution_count": 7,
   "id": "b2f0ef63-ab39-4fc8-8059-386721b97ff9",
   "metadata": {},
   "outputs": [
    {
     "data": {
      "text/html": [
       "<header class=\"rz-header\">\n",
       "<p class=\"rz-header__section-number\">Section 1.01</p>\n",
       "<h1>Deflection Analysis of Aluminum Beam</h1>\n",
       "<p>General Framing System ⋅ Rubberize Demo</p>\n",
       "<ul>\n",
       "<li>Roark’s Formulas for Stress and Strain. Roark, Raymond J., and Warren C. Young. 8th ed., McGraw-Hill, 2011.</li>\n",
       "</ul>\n",
       "</header>"
      ]
     },
     "metadata": {},
     "output_type": "display_data"
    }
   ],
   "source": [
    "%%tap\n",
    "sheet = rubberize.CalcSheet(\n",
    "    \"1.01\",\n",
    "    \"beam\",\n",
    "    project=\"Rubberize Demo\",\n",
    "    system=\"General Framing System\",\n",
    "    calc_type=\"deflection analysis\",\n",
    "    material=\"aluminum\",\n",
    "    references=[\n",
    "        \"Roark’s Formulas for Stress and Strain. Roark, Raymond J., and Warren C. Young. 8th ed., McGraw-Hill, 2011.\",\n",
    "    ]\n",
    ")"
   ]
  },
  {
   "cell_type": "markdown",
   "id": "d97da57c-3e06-4be8-adcc-f123900b1878",
   "metadata": {},
   "source": [
    "In subsequent cells, when you need to record a comparison, use the `check` method of the `CalcSheet` object. This allows you to log a labeled comparison between computed and allowable values."
   ]
  },
  {
   "cell_type": "code",
   "execution_count": 8,
   "id": "a4227270-55f9-4189-af08-82669f4685ec",
   "metadata": {},
   "outputs": [
    {
     "data": {
      "text/html": [
       "<div class=\"rz-line\">\\( \\displaystyle \\text{Since}\\ L \\le 4\\,115.00\\ \\mathrm{mm}\\ \\to\\ 2\\,800.00\\ \\mathrm{mm} \\le 4\\,115.00\\ \\mathrm{mm} \\text{:} \\)</div>\n",
       "<div class=\"rz-body\">\n",
       "    <div class=\"rz-line\">\n",
       "        <div class=\"rz-line__main\">\\( \\displaystyle \\Delta = \\frac{L}{175} = \\frac{2\\,800.00\\ \\mathrm{mm}}{175} = 16.00\\ \\mathrm{mm} \\)</div>\n",
       "        <div class=\"rz-line__desc\">Allowable deflection<br><small>Refer to 2024 IBC Section 1604.3.7</small></div>\n",
       "    </div>\n",
       "</div>\n",
       "<p>Comparing,</p>\n",
       "<div class=\"rz-body\"><div class=\"rz-line\">\\( \\displaystyle \\delta_{\\mathrm{max}} = 15.24\\ \\mathrm{mm} \\quad < \\quad \\Delta = 16.00\\ \\mathrm{mm} \\)</div></div>\n",
       "<div class=\"rz-alert rz-alert--pass\">\n",
       "<div class=\"rz-alert__content\">\n",
       "<p>Utilization is 95.28%.<br />\n",
       "Thus, the deflection is adequate.</p>\n",
       "</div>\n",
       "</div>"
      ]
     },
     "metadata": {},
     "output_type": "display_data"
    }
   ],
   "source": [
    "%%tap\n",
    "if L <= 4115. * ureg.mm:\n",
    "    Delta  = L / 175  # Allowable deflection \\\\ ^Refer to 2024 IBC Section 1604.3.7^\n",
    "elif L > 4115. * ureg.mm:\n",
    "    Delta = L / 240 + 6.4 * ureg.mm\n",
    "\n",
    "sheet.check(\"deflection\", delta_max, Delta)"
   ]
  },
  {
   "cell_type": "markdown",
   "id": "6e8349fd-3b49-469c-a1a1-c76851fbef28",
   "metadata": {},
   "source": [
    "Finally, when you're ready to determine whether the component being analyzed is safe, call the `conclude` method. This automatically updates the conclusion based on all recorded comparisons, providing a clear final assessment."
   ]
  },
  {
   "cell_type": "code",
   "execution_count": 9,
   "id": "e4df608b-a257-47e8-bcba-dfd0f04e9ee2",
   "metadata": {},
   "outputs": [
    {
     "data": {
      "text/html": [
       "<div class=\"rz-alert rz-alert--pass\">\n",
       "<div class=\"rz-alert__content\">\n",
       "<p>Thus, the beam is adequate.</p>\n",
       "</div>\n",
       "</div>"
      ]
     },
     "metadata": {},
     "output_type": "display_data"
    }
   ],
   "source": [
    "%%tap\n",
    "sheet.conclude()"
   ]
  },
  {
   "cell_type": "markdown",
   "id": "12621ff8-8c1e-41fd-bc1e-5bf8e1c70f29",
   "metadata": {},
   "source": [
    "## Exporting to PDF"
   ]
  },
  {
   "cell_type": "markdown",
   "id": "77bd43a0-e2b2-4227-83c5-0cd82c6433eb",
   "metadata": {},
   "source": [
    "To export to pdf, simply use the provided function, either on a separate notebook or in a module:\n",
    "\n",
    "```python\n",
    "rubberize.export_notebook_to_pdf(\"quick_start.ipynb\")\n",
    "```"
   ]
  },
  {
   "cell_type": "markdown",
   "id": "d4516f56-ab65-460c-b544-b063751f8a2b",
   "metadata": {},
   "source": [
    "The exporter suppresses Code cell inputs so that the PDF will appear like a typeset calculation report."
   ]
  }
 ],
 "metadata": {
  "kernelspec": {
   "display_name": "Python 3 (ipykernel)",
   "language": "python",
   "name": "python3"
  },
  "language_info": {
   "codemirror_mode": {
    "name": "ipython",
    "version": 3
   },
   "file_extension": ".py",
   "mimetype": "text/x-python",
   "name": "python",
   "nbconvert_exporter": "python",
   "pygments_lexer": "ipython3",
   "version": "3.12.1"
  }
 },
 "nbformat": 4,
 "nbformat_minor": 5
}
